{
  "nbformat": 4,
  "nbformat_minor": 0,
  "metadata": {
    "anaconda-cloud": {},
    "kernelspec": {
      "display_name": "Python 3",
      "language": "python",
      "name": "python3"
    },
    "language_info": {
      "codemirror_mode": {
        "name": "ipython",
        "version": 3
      },
      "file_extension": ".py",
      "mimetype": "text/x-python",
      "name": "python",
      "nbconvert_exporter": "python",
      "pygments_lexer": "ipython3",
      "version": "3.7.3"
    },
    "toc": {
      "base_numbering": 1,
      "nav_menu": {},
      "number_sections": true,
      "sideBar": true,
      "skip_h1_title": false,
      "title_cell": "Table of Contents",
      "title_sidebar": "Contents",
      "toc_cell": false,
      "toc_position": {},
      "toc_section_display": true,
      "toc_window_display": false
    },
    "varInspector": {
      "cols": {
        "lenName": 16,
        "lenType": 16,
        "lenVar": 40
      },
      "kernels_config": {
        "python": {
          "delete_cmd_postfix": "",
          "delete_cmd_prefix": "del ",
          "library": "var_list.py",
          "varRefreshCmd": "print(var_dic_list())"
        },
        "r": {
          "delete_cmd_postfix": ") ",
          "delete_cmd_prefix": "rm(",
          "library": "var_list.r",
          "varRefreshCmd": "cat(var_dic_list()) "
        }
      },
      "types_to_exclude": [
        "module",
        "function",
        "builtin_function_or_method",
        "instance",
        "_Feature"
      ],
      "window_display": false
    },
    "colab": {
      "name": "Python_101.ipynb",
      "provenance": [],
      "collapsed_sections": [],
      "include_colab_link": true
    }
  },
  "cells": [
    {
      "cell_type": "markdown",
      "metadata": {
        "id": "view-in-github",
        "colab_type": "text"
      },
      "source": [
        "<a href=\"https://colab.research.google.com/github/osamasarhan/AI-Ignition-system/blob/master/Python_101.ipynb\" target=\"_parent\"><img src=\"https://colab.research.google.com/assets/colab-badge.svg\" alt=\"Open In Colab\"/></a>"
      ]
    },
    {
      "cell_type": "markdown",
      "metadata": {
        "id": "6y-g8EGuSHAb"
      },
      "source": [
        "# Alex Belianinov\n",
        "#Sandia National Laboratory\n",
        "#Ion Beam Laboratory\n",
        "### aabelia@sandia.gov\n",
        "### Python 101\n",
        "\n",
        "#### **Welcome Everyone**"
      ]
    },
    {
      "cell_type": "code",
      "metadata": {
        "id": "Q1GgT8ShSHAc",
        "colab": {
          "base_uri": "https://localhost:8080/",
          "height": 173
        },
        "outputId": "49d764b2-d9e4-4932-9302-5bcd31a443f5"
      },
      "source": [
        "# colab notebooks (this environment) .. are made up of cells\n",
        "# to run this cell, i'm going to type shift-enter\n",
        "# # (in python) indicates a comment\n",
        "\n",
        "print(\"hello world\")\n",
        "print(\"text\")\n",
        "\n",
        "# 30 + 45\n",
        "\n",
        "# for i in range(3):\n",
        "    print(\"howdy y'all\")\n",
        "    print('does this thing work?')\n",
        "\n",
        "17  # this last value in the cell, and is the \"value\" of the cell as a whole"
      ],
      "execution_count": null,
      "outputs": [
        {
          "output_type": "stream",
          "text": [
            "hello world\n",
            "text\n",
            "howdy y'all\n",
            "does this thing work?\n",
            "howdy y'all\n",
            "does this thing work?\n",
            "howdy y'all\n",
            "does this thing work?\n"
          ],
          "name": "stdout"
        },
        {
          "output_type": "execute_result",
          "data": {
            "text/plain": [
              "17"
            ]
          },
          "metadata": {
            "tags": []
          },
          "execution_count": 1
        }
      ]
    },
    {
      "cell_type": "code",
      "metadata": {
        "id": "AWFnSj1KSHAh",
        "colab": {
          "base_uri": "https://localhost:8080/",
          "height": 34
        },
        "outputId": "240d72bf-809a-4655-ab94-5a508f6eb464"
      },
      "source": [
        "Out[1] * 2"
      ],
      "execution_count": null,
      "outputs": [
        {
          "output_type": "execute_result",
          "data": {
            "text/plain": [
              "34"
            ]
          },
          "metadata": {
            "tags": []
          },
          "execution_count": 5
        }
      ]
    },
    {
      "cell_type": "code",
      "metadata": {
        "id": "sgacfthPSHAj",
        "colab": {
          "base_uri": "https://localhost:8080/",
          "height": 34
        },
        "outputId": "d126f66d-7091-477d-cbb2-1fec99dce12a"
      },
      "source": [
        "Out[2] + 2"
      ],
      "execution_count": null,
      "outputs": [
        {
          "output_type": "execute_result",
          "data": {
            "text/plain": [
              "36"
            ]
          },
          "metadata": {
            "tags": []
          },
          "execution_count": 6
        }
      ]
    },
    {
      "cell_type": "code",
      "metadata": {
        "id": "3fHRlga-SHAm",
        "colab": {
          "base_uri": "https://localhost:8080/",
          "height": 51
        },
        "outputId": "7053ccd3-430d-4b2b-b468-a95679936664"
      },
      "source": [
        "# variables and variable names\n",
        "aVar = 100\n",
        "avar = 10\n",
        "AVAR = 100\n",
        "\n",
        "print\n",
        "\n",
        "print(aVar, avar, AVAR)\n",
        "\n",
        "# start with any letter or underscore ... then we can letters and numbers\n",
        "var1 = 10\n",
        "var2 = 20\n",
        "print(var1 + var2)\n"
      ],
      "execution_count": null,
      "outputs": [
        {
          "output_type": "stream",
          "text": [
            "100 10 100\n",
            "30\n"
          ],
          "name": "stdout"
        }
      ]
    },
    {
      "cell_type": "code",
      "metadata": {
        "id": "1b7x04Zrtuxs"
      },
      "source": [
        "print()"
      ],
      "execution_count": null,
      "outputs": []
    },
    {
      "cell_type": "code",
      "metadata": {
        "id": "MGda_KJvSHAp",
        "colab": {
          "base_uri": "https://localhost:8080/",
          "height": 130
        },
        "outputId": "93c4e349-0ef5-4ae6-cbad-bf463ee8d0a8"
      },
      "source": [
        "# following fail:\n",
        "3rdName = 100    # b/c leading digit\n",
        "for = 3          # b/c keywords aren't legal variable name\n",
        "\n",
        "del var2\n",
        "# print var2   # this name no longer exists (NameError)"
      ],
      "execution_count": null,
      "outputs": [
        {
          "output_type": "error",
          "ename": "SyntaxError",
          "evalue": "ignored",
          "traceback": [
            "\u001b[0;36m  File \u001b[0;32m\"<ipython-input-8-0ee949be2e45>\"\u001b[0;36m, line \u001b[0;32m2\u001b[0m\n\u001b[0;31m    3rdName = 100    # b/c leading digit\u001b[0m\n\u001b[0m          ^\u001b[0m\n\u001b[0;31mSyntaxError\u001b[0m\u001b[0;31m:\u001b[0m invalid syntax\n"
          ]
        }
      ]
    },
    {
      "cell_type": "code",
      "metadata": {
        "id": "ut3KhJ20tZyg"
      },
      "source": [
        "print()"
      ],
      "execution_count": null,
      "outputs": []
    },
    {
      "cell_type": "code",
      "metadata": {
        "id": "NWypo--iSHAr",
        "colab": {
          "base_uri": "https://localhost:8080/",
          "height": 102
        },
        "outputId": "490a840c-5b35-4108-d5e5-a3b07aae70b9"
      },
      "source": [
        "# indentation\n",
        "i = 0\n",
        "while i < 5:\n",
        "    print(i)\n",
        "    i = i + 1"
      ],
      "execution_count": null,
      "outputs": [
        {
          "output_type": "stream",
          "text": [
            "0\n",
            "1\n",
            "2\n",
            "3\n",
            "4\n"
          ],
          "name": "stdout"
        }
      ]
    },
    {
      "cell_type": "code",
      "metadata": {
        "id": "A0F4SWCwSHAt",
        "colab": {
          "base_uri": "https://localhost:8080/",
          "height": 102
        },
        "outputId": "01fd9792-71d5-4dab-ae88-2df544431da2"
      },
      "source": [
        "for i in range(5):\n",
        "    print(i)"
      ],
      "execution_count": null,
      "outputs": [
        {
          "output_type": "stream",
          "text": [
            "0\n",
            "1\n",
            "2\n",
            "3\n",
            "4\n"
          ],
          "name": "stdout"
        }
      ]
    },
    {
      "cell_type": "code",
      "metadata": {
        "id": "KKfzOCFjSHAw",
        "colab": {
          "base_uri": "https://localhost:8080/",
          "height": 34
        },
        "outputId": "6ce0fed3-493b-411f-dd6e-fae24ed09b45"
      },
      "source": [
        "range(5)  # ---> list of the values 0...4\n",
        "a = range(5)\n",
        "a = list(a)\n",
        "print (a)"
      ],
      "execution_count": null,
      "outputs": [
        {
          "output_type": "stream",
          "text": [
            "[0, 1, 2, 3, 4]\n"
          ],
          "name": "stdout"
        }
      ]
    },
    {
      "cell_type": "code",
      "metadata": {
        "id": "ZZCm-1N8SHAz",
        "colab": {
          "base_uri": "https://localhost:8080/",
          "height": 136
        },
        "outputId": "6b6ee6d0-46c5-4e30-8bce-a5679347fa55"
      },
      "source": [
        "# control-m followed by l (ell) ... you can get line numbers in a cell\n",
        "for i in range(5):\n",
        "    print(i)\n",
        "    if i > 2:\n",
        "        print(\"i is big\")"
      ],
      "execution_count": null,
      "outputs": [
        {
          "output_type": "stream",
          "text": [
            "0\n",
            "1\n",
            "2\n",
            "3\n",
            "i is big\n",
            "4\n",
            "i is big\n"
          ],
          "name": "stdout"
        }
      ]
    },
    {
      "cell_type": "code",
      "metadata": {
        "id": "cG1pG-DgSHA1",
        "colab": {
          "base_uri": "https://localhost:8080/",
          "height": 187
        },
        "outputId": "0f8a6f61-be09-4443-a857-8a33b2a35da6"
      },
      "source": [
        "for i in range(5):\n",
        "    print (i, \"is\") \n",
        "    if i % 2 == 0:   # / 2 gives 0, then a number is even\n",
        "        print(\"even\")\n",
        "    else:\n",
        "        print(\"odd\")"
      ],
      "execution_count": null,
      "outputs": [
        {
          "output_type": "stream",
          "text": [
            "0 is\n",
            "even\n",
            "1 is\n",
            "odd\n",
            "2 is\n",
            "even\n",
            "3 is\n",
            "odd\n",
            "4 is\n",
            "even\n"
          ],
          "name": "stdout"
        }
      ]
    },
    {
      "cell_type": "code",
      "metadata": {
        "id": "9PGvDDtxSHA3",
        "colab": {
          "base_uri": "https://localhost:8080/",
          "height": 51
        },
        "outputId": "6f62f02e-0db1-4c22-f5d8-ff898e8b81ac"
      },
      "source": [
        "print(\"hello\")\n",
        "print(\"world\")"
      ],
      "execution_count": null,
      "outputs": [
        {
          "output_type": "stream",
          "text": [
            "hello\n",
            "world\n"
          ],
          "name": "stdout"
        }
      ]
    },
    {
      "cell_type": "code",
      "metadata": {
        "id": "xcf3V390SHA5",
        "colab": {
          "base_uri": "https://localhost:8080/",
          "height": 187
        },
        "outputId": "e852cb4d-9596-49d8-ed6c-0c5006be4ac1"
      },
      "source": [
        "for i in range(10):\n",
        "    print( i, \"is\", end=\" \") #Python 3 way to print without a newline\n",
        "    if i < 3:\n",
        "        print(\"small\")\n",
        "    # in C, we need two separate conditions  (C's && --->  and)\n",
        "    elif i >= 3 and i <= 7:   # i between 3 and 7 (inclusive)\n",
        "        print(\"middle\")\n",
        "    else:\n",
        "        print(\"big\")"
      ],
      "execution_count": null,
      "outputs": [
        {
          "output_type": "stream",
          "text": [
            "0 is small\n",
            "1 is small\n",
            "2 is small\n",
            "3 is middle\n",
            "4 is middle\n",
            "5 is middle\n",
            "6 is middle\n",
            "7 is middle\n",
            "8 is big\n",
            "9 is big\n"
          ],
          "name": "stdout"
        }
      ]
    },
    {
      "cell_type": "code",
      "metadata": {
        "id": "HEcD86_HSHA8",
        "colab": {
          "base_uri": "https://localhost:8080/",
          "height": 102
        },
        "outputId": "7dee6cef-d2ab-4076-8aef-da3893bdb4a3"
      },
      "source": [
        "print(3 + 5)\n",
        "print(True and True)\n",
        "print(True and False)\n",
        "print(False and True)\n",
        "print(False and False)"
      ],
      "execution_count": null,
      "outputs": [
        {
          "output_type": "stream",
          "text": [
            "8\n",
            "True\n",
            "False\n",
            "False\n",
            "False\n"
          ],
          "name": "stdout"
        }
      ]
    },
    {
      "cell_type": "code",
      "metadata": {
        "id": "Y_cC-JxnSHA-",
        "colab": {
          "base_uri": "https://localhost:8080/",
          "height": 85
        },
        "outputId": "73ad1a8e-eca2-4e01-c753-92fb0ccb805c"
      },
      "source": [
        "print(True or True)\n",
        "print(True or False)\n",
        "print(False or True)\n",
        "print(False or False)"
      ],
      "execution_count": null,
      "outputs": [
        {
          "output_type": "stream",
          "text": [
            "True\n",
            "True\n",
            "True\n",
            "False\n"
          ],
          "name": "stdout"
        }
      ]
    },
    {
      "cell_type": "code",
      "metadata": {
        "id": "pVUmNIyPSHBA",
        "colab": {
          "base_uri": "https://localhost:8080/",
          "height": 34
        },
        "outputId": "71d34fa1-5dc2-483f-a962-ee3995d3ad4d"
      },
      "source": [
        "print(not True)"
      ],
      "execution_count": null,
      "outputs": [
        {
          "output_type": "stream",
          "text": [
            "False\n"
          ],
          "name": "stdout"
        }
      ]
    },
    {
      "cell_type": "code",
      "metadata": {
        "id": "wE8RhIbtSHBC",
        "colab": {
          "base_uri": "https://localhost:8080/",
          "height": 34
        },
        "outputId": "bf374a1e-0540-45fd-d7ff-40ea84180a2f"
      },
      "source": [
        "# displaying values:\n",
        "x = 10\n",
        "print(\"hello world\", x, 35, 3.14, x + 10)"
      ],
      "execution_count": null,
      "outputs": [
        {
          "output_type": "stream",
          "text": [
            "hello world 10 35 3.14 20\n"
          ],
          "name": "stdout"
        }
      ]
    },
    {
      "cell_type": "code",
      "metadata": {
        "id": "0HSNXyhgSHBE",
        "colab": {
          "base_uri": "https://localhost:8080/",
          "height": 34
        },
        "outputId": "7809053f-a555-4997-97b8-1004696997c7"
      },
      "source": [
        "averyveryverylongvariablename = 42\n",
        "\n",
        "result = averyveryverylongvariablename + averyveryverylongvariablename + averyveryverylongvariablename + averyveryverylongvariablename\n",
        "\n",
        "# dealing with long lines:\n",
        "# MEF preferred\n",
        "result = (averyveryverylongvariablename + \n",
        "          averyveryverylongvariablename + \n",
        "          averyveryverylongvariablename + \n",
        "          averyveryverylongvariablename)\n",
        "\n",
        "# you have to be careful about no spaces after the backslash\n",
        "# and the backslash can get confusing on longlines and in math\n",
        "result = averyveryverylongvariablename + \\\n",
        "         averyveryverylongvariablename + \\\n",
        "         averyveryverylongvariablename + \\\n",
        "         averyveryverylongvariablename\n",
        "\n",
        "print(result)"
      ],
      "execution_count": null,
      "outputs": [
        {
          "output_type": "stream",
          "text": [
            "168\n"
          ],
          "name": "stdout"
        }
      ]
    },
    {
      "cell_type": "code",
      "metadata": {
        "id": "7PuZTQwoSHBG"
      },
      "source": [
        "# doing nothing\n",
        "# C/Java:  we use a ; by itself for a NULL stmt\n",
        "for i in range(5):\n",
        "    pass    # placeholder"
      ],
      "execution_count": null,
      "outputs": []
    },
    {
      "cell_type": "markdown",
      "metadata": {
        "id": "Bhx_NOItSHBI"
      },
      "source": [
        "### Basic Datatype"
      ]
    },
    {
      "cell_type": "code",
      "metadata": {
        "id": "gEj3xJ7kSHBI",
        "colab": {
          "base_uri": "https://localhost:8080/",
          "height": 68
        },
        "outputId": "269cfe9b-1ba1-4659-e93d-293ebaabdf1c"
      },
      "source": [
        "print(True and False)   # these are boolean values ... \"bool\"\n",
        "print(True + False)     # just like 1 + 0\n",
        "print(True * 10)          # just like 1 * 10"
      ],
      "execution_count": null,
      "outputs": [
        {
          "output_type": "stream",
          "text": [
            "False\n",
            "1\n",
            "10\n"
          ],
          "name": "stdout"
        }
      ]
    },
    {
      "cell_type": "code",
      "metadata": {
        "id": "aSqgKQGESHBK",
        "colab": {
          "base_uri": "https://localhost:8080/",
          "height": 85
        },
        "outputId": "9417ad89-6744-458b-f526-5c3fd74e9d64"
      },
      "source": [
        "print(type(True))\n",
        "print(type(1))  # one\n",
        "print(type(True + False))\n",
        "\n",
        "print(isinstance(True, int))  # is True a particular int?\n",
        "# bools are ints by \"inheritence\""
      ],
      "execution_count": null,
      "outputs": [
        {
          "output_type": "stream",
          "text": [
            "<class 'bool'>\n",
            "<class 'int'>\n",
            "<class 'int'>\n",
            "True\n"
          ],
          "name": "stdout"
        }
      ]
    },
    {
      "cell_type": "code",
      "metadata": {
        "id": "6inzXMmfSHBN",
        "colab": {
          "base_uri": "https://localhost:8080/",
          "height": 34
        },
        "outputId": "a39c9f0b-6681-4475-a075-91c2f336e683"
      },
      "source": [
        "type(42)  # evaluating just show int"
      ],
      "execution_count": null,
      "outputs": [
        {
          "output_type": "execute_result",
          "data": {
            "text/plain": [
              "int"
            ]
          },
          "metadata": {
            "tags": []
          },
          "execution_count": 22
        }
      ]
    },
    {
      "cell_type": "code",
      "metadata": {
        "id": "VA4CntneSHBP",
        "colab": {
          "base_uri": "https://localhost:8080/",
          "height": 34
        },
        "outputId": "19d69df2-60aa-4dfb-d7f9-2f01d6102e83"
      },
      "source": [
        "print(type(42))"
      ],
      "execution_count": null,
      "outputs": [
        {
          "output_type": "stream",
          "text": [
            "<class 'int'>\n"
          ],
          "name": "stdout"
        }
      ]
    },
    {
      "cell_type": "code",
      "metadata": {
        "id": "WjGpSv8VSHBS",
        "colab": {
          "base_uri": "https://localhost:8080/",
          "height": 34
        },
        "outputId": "866c436d-28fc-4b93-bced-8bec88e56ab5"
      },
      "source": [
        "2^3   # not \"to the power of\""
      ],
      "execution_count": null,
      "outputs": [
        {
          "output_type": "execute_result",
          "data": {
            "text/plain": [
              "1"
            ]
          },
          "metadata": {
            "tags": []
          },
          "execution_count": 24
        }
      ]
    },
    {
      "cell_type": "code",
      "metadata": {
        "id": "nzF6K60WSHBU",
        "colab": {
          "base_uri": "https://localhost:8080/",
          "height": 34
        },
        "outputId": "dda94c28-3ece-4666-ee3e-99a538b99b7a"
      },
      "source": [
        "2**3 # two raised to the third power"
      ],
      "execution_count": null,
      "outputs": [
        {
          "output_type": "execute_result",
          "data": {
            "text/plain": [
              "8"
            ]
          },
          "metadata": {
            "tags": []
          },
          "execution_count": 25
        }
      ]
    },
    {
      "cell_type": "code",
      "metadata": {
        "id": "3EH62WpvSHBW",
        "colab": {
          "base_uri": "https://localhost:8080/",
          "height": 54
        },
        "outputId": "1a6665cf-fcc9-4459-e19d-f1d813e67ff3"
      },
      "source": [
        "2**(2**10)  # gives us an int; earlier versions of Python add L at the end"
      ],
      "execution_count": null,
      "outputs": [
        {
          "output_type": "execute_result",
          "data": {
            "text/plain": [
              "179769313486231590772930519078902473361797697894230657273430081157732675805500963132708477322407536021120113879871393357658789768814416622492847430639474124377767893424865485276302219601246094119453082952085005768838150682342462881473913110540827237163350510684586298239947245938479716304835356329624224137216"
            ]
          },
          "metadata": {
            "tags": []
          },
          "execution_count": 26
        }
      ]
    },
    {
      "cell_type": "code",
      "metadata": {
        "id": "CDfaBpW8SHBY",
        "colab": {
          "base_uri": "https://localhost:8080/",
          "height": 69
        },
        "outputId": "ae483650-5de9-4e20-9b06-b732ed96c4a2"
      },
      "source": [
        "# a comment about floats:\n",
        "# 1.  they are approximations to real numbers ... b/c they have finite memory\n",
        "#     .9999999999...    .... we have to trim it at some point  (in base 10... 1/9 -> .1... )\n",
        "# 2.  in base 2 (how we store floats) ... there are different repeating numbers\n",
        "#     so we have different infinite repeaters\n",
        "\n",
        "a = 2.1 + 4.2\n",
        "print(a)\n",
        "\n",
        "print(a == 6.3)  # WTH?  same in C/C++/Java ... anyone using IEEE-754 representation (everyone)\n",
        "\n",
        "# we don't compare to floats with equality\n",
        "# we say \"are these two values close enough\"\n",
        "\n",
        "print(6.3 - .0001  < a < 6.3 +.0001)   # close enough is within 10**-4"
      ],
      "execution_count": null,
      "outputs": [
        {
          "output_type": "stream",
          "text": [
            "6.300000000000001\n",
            "False\n",
            "True\n"
          ],
          "name": "stdout"
        }
      ]
    },
    {
      "cell_type": "code",
      "metadata": {
        "id": "MmcPq4cxSHBb",
        "colab": {
          "base_uri": "https://localhost:8080/",
          "height": 68
        },
        "outputId": "51fbf652-e8ac-45ee-bce0-4a6677085227"
      },
      "source": [
        "# converting between different types\n",
        "# in python, to make something of a type, we can almost always \"say the name of that type\"\n",
        "# and get that sort of thing out\n",
        "print(int(3)) # ---> int with the value 3\n",
        "print(int(3.0)) # ---> int with value 3 from float 3.0\n",
        "print(int(\"3\")) # ---> \"\"                 \"\"  string \"3\""
      ],
      "execution_count": null,
      "outputs": [
        {
          "output_type": "stream",
          "text": [
            "3\n",
            "3\n",
            "3\n"
          ],
          "name": "stdout"
        }
      ]
    },
    {
      "cell_type": "code",
      "metadata": {
        "id": "gpLwsDvOSHBd",
        "colab": {
          "base_uri": "https://localhost:8080/",
          "height": 68
        },
        "outputId": "8e106c74-1321-48d3-8e54-343fed7d1e40"
      },
      "source": [
        "print(float(\"3.14\"))  # string \"3.14\" --> float 3.14\n",
        "# FAILS:\n",
        "# print int(\"3.14\")    # python can't make an int out of a floating point looking string\n",
        "print(float(\"3.14\"))\n",
        "print(int(float(\"3.14\")))  # by using two steps, we get the desired (?) int"
      ],
      "execution_count": null,
      "outputs": [
        {
          "output_type": "stream",
          "text": [
            "3.14\n",
            "3.14\n",
            "3\n"
          ],
          "name": "stdout"
        }
      ]
    },
    {
      "cell_type": "code",
      "metadata": {
        "id": "Vifdkqq7SHBf",
        "colab": {
          "base_uri": "https://localhost:8080/",
          "height": 85
        },
        "outputId": "b966395e-e8c8-4e49-f02e-c0bf7626e662"
      },
      "source": [
        "# string literals come in a few flavors\n",
        "print(\"hello world\")  # with \"\"\n",
        "print('hello world')  # with ''\n",
        "\n",
        "# these are very useful with regular expressions\n",
        "print('She said, \"Hi there.\"')\n",
        "print(\"She's angry at me\")"
      ],
      "execution_count": null,
      "outputs": [
        {
          "output_type": "stream",
          "text": [
            "hello world\n",
            "hello world\n",
            "She said, \"Hi there.\"\n",
            "She's angry at me\n"
          ],
          "name": "stdout"
        }
      ]
    },
    {
      "cell_type": "code",
      "metadata": {
        "id": "KWrDBcRsSHBh",
        "colab": {
          "base_uri": "https://localhost:8080/",
          "height": 85
        },
        "outputId": "a0e41024-25a9-4977-de95-80881485ba1e"
      },
      "source": [
        "# sometimes strings spill over many lines\n",
        "# use \"\"\" or '''\n",
        "longstring = \"\"\"a long string\n",
        "split over several lines\n",
        "and that might be\n",
        "annoying to type in by hand\"\"\"\n",
        "\n",
        "print(longstring)"
      ],
      "execution_count": null,
      "outputs": [
        {
          "output_type": "stream",
          "text": [
            "a long string\n",
            "split over several lines\n",
            "and that might be\n",
            "annoying to type in by hand\n"
          ],
          "name": "stdout"
        }
      ]
    },
    {
      "cell_type": "code",
      "metadata": {
        "id": "pUpe87o4SHBk",
        "colab": {
          "base_uri": "https://localhost:8080/",
          "height": 35
        },
        "outputId": "b8d29f09-de45-4a97-e1d0-6e47ab669b82"
      },
      "source": [
        "longstring"
      ],
      "execution_count": null,
      "outputs": [
        {
          "output_type": "execute_result",
          "data": {
            "application/vnd.google.colaboratory.intrinsic": {
              "type": "string"
            },
            "text/plain": [
              "'a long string\\nsplit over several lines\\nand that might be\\nannoying to type in by hand'"
            ]
          },
          "metadata": {
            "tags": []
          },
          "execution_count": 16
        }
      ]
    },
    {
      "cell_type": "code",
      "metadata": {
        "id": "w0A3vez-SHBm",
        "colab": {
          "base_uri": "https://localhost:8080/",
          "height": 51
        },
        "outputId": "8a8f1c0e-bafb-4118-aece-03b01ea73344"
      },
      "source": [
        "# python lets us use \"escape chars\" for special symbols\n",
        "# \\n --> newline\n",
        "# \\t --> tab\n",
        "print(\"0\\t10\\n20\\t30\")"
      ],
      "execution_count": null,
      "outputs": [
        {
          "output_type": "stream",
          "text": [
            "0\t10\n",
            "20\t30\n"
          ],
          "name": "stdout"
        }
      ]
    },
    {
      "cell_type": "code",
      "metadata": {
        "id": "UgQH5MMwSHBn",
        "colab": {
          "base_uri": "https://localhost:8080/",
          "height": 52
        },
        "outputId": "8ef19ab9-dbde-4204-d482-18e1cd035583"
      },
      "source": [
        "# some string basics\n",
        "s = \"amanaplanacanalpanama\"\n",
        "print(s)\n",
        "print(s[::-1])  # reverse the string"
      ],
      "execution_count": null,
      "outputs": [
        {
          "output_type": "stream",
          "text": [
            "amanaplanacanalpanama\n",
            "amanaplanacanalpanama\n"
          ],
          "name": "stdout"
        }
      ]
    },
    {
      "cell_type": "code",
      "metadata": {
        "id": "hDBqCbalSHBp",
        "colab": {
          "base_uri": "https://localhost:8080/",
          "height": 102
        },
        "outputId": "73bd60ba-0d4c-49f0-d12f-e5e46172ae23"
      },
      "source": [
        "# 0123\n",
        "# aman aplanacanalpanamab\n",
        "\n",
        "# indexing (a single value)\n",
        "print(s[3])   # location 3 within the string  (python counts from zero)\n",
        "print(s[0])\n",
        "\n",
        "print(s[1] + s[2] + s[3])   # adding is string concatenation\n",
        "# slicing (pulling out a substring)\n",
        "print(s[1:3])  # the ending point here, was NOT included\n",
        "print(s[1:4])  # includes the starting point ... excludes the ending point ... half open interval"
      ],
      "execution_count": null,
      "outputs": [
        {
          "output_type": "stream",
          "text": [
            "n\n",
            "a\n",
            "man\n",
            "ma\n",
            "man\n"
          ],
          "name": "stdout"
        }
      ]
    },
    {
      "cell_type": "code",
      "metadata": {
        "id": "4YHP8ro6SHBr",
        "colab": {
          "base_uri": "https://localhost:8080/",
          "height": 51
        },
        "outputId": "aade6ed9-e12c-45ef-ce3a-44cd6962ca6f"
      },
      "source": [
        "print(s[0:9])\n",
        "print(s[:9])   # default start is zero"
      ],
      "execution_count": null,
      "outputs": [
        {
          "output_type": "stream",
          "text": [
            "amanaplan\n",
            "amanaplan\n"
          ],
          "name": "stdout"
        }
      ]
    },
    {
      "cell_type": "code",
      "metadata": {
        "id": "O8Ajaa5WSHBt",
        "colab": {
          "base_uri": "https://localhost:8080/",
          "height": 34
        },
        "outputId": "827201e7-e013-4fa1-b0d0-75486307fbfb"
      },
      "source": [
        "# how long is the string\n",
        "print(len(s))"
      ],
      "execution_count": null,
      "outputs": [
        {
          "output_type": "stream",
          "text": [
            "22\n"
          ],
          "name": "stdout"
        }
      ]
    },
    {
      "cell_type": "code",
      "metadata": {
        "id": "6r2QKkRCSHBv",
        "colab": {
          "base_uri": "https://localhost:8080/",
          "height": 266
        },
        "outputId": "1dea1bc6-aaa5-4c45-bd00-c8ecab173fbf"
      },
      "source": [
        "# what are my legal indices?\n",
        "print(s[0])\n",
        "print(s[19])\n",
        "print(s[20])\n",
        "#print s[22]  # <---- ???   b/c are legal indices are 0 .... 20  (21 total values)\n",
        "new_string = 'abcd'\n",
        "print(len(new_string))\n",
        "new_string[4]\n"
      ],
      "execution_count": null,
      "outputs": [
        {
          "output_type": "stream",
          "text": [
            "a\n",
            "m\n",
            "a\n",
            "4\n"
          ],
          "name": "stdout"
        },
        {
          "output_type": "error",
          "ename": "IndexError",
          "evalue": "ignored",
          "traceback": [
            "\u001b[0;31m---------------------------------------------------------------------------\u001b[0m",
            "\u001b[0;31mIndexError\u001b[0m                                Traceback (most recent call last)",
            "\u001b[0;32m<ipython-input-48-2b685d23e910>\u001b[0m in \u001b[0;36m<module>\u001b[0;34m()\u001b[0m\n\u001b[1;32m      6\u001b[0m \u001b[0mnew_string\u001b[0m \u001b[0;34m=\u001b[0m \u001b[0;34m'abcd'\u001b[0m\u001b[0;34m\u001b[0m\u001b[0;34m\u001b[0m\u001b[0m\n\u001b[1;32m      7\u001b[0m \u001b[0mprint\u001b[0m\u001b[0;34m(\u001b[0m\u001b[0mlen\u001b[0m\u001b[0;34m(\u001b[0m\u001b[0mnew_string\u001b[0m\u001b[0;34m)\u001b[0m\u001b[0;34m)\u001b[0m\u001b[0;34m\u001b[0m\u001b[0;34m\u001b[0m\u001b[0m\n\u001b[0;32m----> 8\u001b[0;31m \u001b[0mnew_string\u001b[0m\u001b[0;34m[\u001b[0m\u001b[0;36m4\u001b[0m\u001b[0;34m]\u001b[0m\u001b[0;34m\u001b[0m\u001b[0;34m\u001b[0m\u001b[0m\n\u001b[0m",
            "\u001b[0;31mIndexError\u001b[0m: string index out of range"
          ]
        }
      ]
    },
    {
      "cell_type": "code",
      "metadata": {
        "id": "hIrCXkd4SHBy",
        "colab": {
          "base_uri": "https://localhost:8080/",
          "height": 34
        },
        "outputId": "ec54172b-1631-4ad1-8e4b-4ce342c51d84"
      },
      "source": [
        "# working with a slice is a little different than working with a straight index\n",
        "print(s[15:21])  # remember, don't include the end point"
      ],
      "execution_count": null,
      "outputs": [
        {
          "output_type": "stream",
          "text": [
            "panama\n"
          ],
          "name": "stdout"
        }
      ]
    },
    {
      "cell_type": "code",
      "metadata": {
        "id": "rmzsZON8SHB0",
        "colab": {
          "base_uri": "https://localhost:8080/",
          "height": 51
        },
        "outputId": "19a52c81-405b-475b-90c5-d8772be9ae49"
      },
      "source": [
        "print(s[15:])   # default ending spot is the end of the string\n",
        "print(s[:15])"
      ],
      "execution_count": null,
      "outputs": [
        {
          "output_type": "stream",
          "text": [
            "panamab\n",
            "amanaplanacanal\n"
          ],
          "name": "stdout"
        }
      ]
    },
    {
      "cell_type": "code",
      "metadata": {
        "id": "vH6w1VNxSHB2",
        "colab": {
          "base_uri": "https://localhost:8080/",
          "height": 34
        },
        "outputId": "41f3e96b-0586-41e1-ad29-ea62099a77ce"
      },
      "source": [
        "# to get the whole string\n",
        "print(s[:])   # this is a copy of the underlying string"
      ],
      "execution_count": null,
      "outputs": [
        {
          "output_type": "stream",
          "text": [
            "amanaplanacanalpanama\n"
          ],
          "name": "stdout"
        }
      ]
    },
    {
      "cell_type": "code",
      "metadata": {
        "id": "ejRenfvxSHB4",
        "colab": {
          "base_uri": "https://localhost:8080/",
          "height": 68
        },
        "outputId": "dba0510f-362f-4960-b9c2-71b4a4d601bb"
      },
      "source": [
        "print(s[15:len(s)])  # len(s) is 21\n",
        "print(s[len(s)-6:len(s)])\n",
        "print(s[len(s)-6:])"
      ],
      "execution_count": null,
      "outputs": [
        {
          "output_type": "stream",
          "text": [
            "panamab\n",
            "anamab\n",
            "anamab\n"
          ],
          "name": "stdout"
        }
      ]
    },
    {
      "cell_type": "code",
      "metadata": {
        "id": "7ELcSGjISHB7",
        "colab": {
          "base_uri": "https://localhost:8080/",
          "height": 68
        },
        "outputId": "4fa64587-daa3-45b9-f2d6-88b4899b97c6"
      },
      "source": [
        "# with indexing\n",
        "#print(s[len(s)])   # FAIL!\n",
        "print(s[len(s)-1])\n",
        "print(s[len(s)-2])\n",
        "print(s[len(s)-3])"
      ],
      "execution_count": null,
      "outputs": [
        {
          "output_type": "stream",
          "text": [
            "a\n",
            "m\n",
            "a\n"
          ],
          "name": "stdout"
        }
      ]
    },
    {
      "cell_type": "code",
      "metadata": {
        "id": "0DnKO_mqSHB9",
        "colab": {
          "base_uri": "https://localhost:8080/",
          "height": 68
        },
        "outputId": "de23a753-af24-485b-dd55-0e17a61e511a"
      },
      "source": [
        "print(s[-1])  # go to len(s) and move back 1 position\n",
        "print(s[-2])\n",
        "print(s[-3])"
      ],
      "execution_count": null,
      "outputs": [
        {
          "output_type": "stream",
          "text": [
            "a\n",
            "m\n",
            "a\n"
          ],
          "name": "stdout"
        }
      ]
    },
    {
      "cell_type": "code",
      "metadata": {
        "id": "-wEEl1UkSHB_",
        "colab": {
          "base_uri": "https://localhost:8080/",
          "height": 34
        },
        "outputId": "4d66c400-d96f-4098-88e1-70bcdd6e8b4f"
      },
      "source": [
        "print(s[-6:])  # the last 6 chars of s"
      ],
      "execution_count": null,
      "outputs": [
        {
          "output_type": "stream",
          "text": [
            "panama\n"
          ],
          "name": "stdout"
        }
      ]
    },
    {
      "cell_type": "code",
      "metadata": {
        "id": "Ej2PfnhuSHCC",
        "colab": {
          "base_uri": "https://localhost:8080/",
          "height": 35
        },
        "outputId": "9d5b4477-aa45-4bf5-fbb8-9a70d97eb6e2"
      },
      "source": [
        "filename = \"names.txt\"\n",
        "filename[-4:]  # --> the file extension"
      ],
      "execution_count": null,
      "outputs": [
        {
          "output_type": "execute_result",
          "data": {
            "application/vnd.google.colaboratory.intrinsic": {
              "type": "string"
            },
            "text/plain": [
              "'.txt'"
            ]
          },
          "metadata": {
            "tags": []
          },
          "execution_count": 23
        }
      ]
    },
    {
      "cell_type": "code",
      "metadata": {
        "id": "ruE2KD3ZSHCE",
        "colab": {
          "base_uri": "https://localhost:8080/",
          "height": 249
        },
        "outputId": "7895b0e1-fd66-4f85-93fe-3beba072a3f3"
      },
      "source": [
        "print(s)\n",
        "# make it:  zman\n",
        "#s[0] = 'z'  # --> FAIL!\n",
        "# once we make a string, it is immutable (we can't modify it)\n",
        "\n",
        "print('z' + s[1:])"
      ],
      "execution_count": null,
      "outputs": [
        {
          "output_type": "stream",
          "text": [
            "amanaplanacanalpanamab\n"
          ],
          "name": "stdout"
        },
        {
          "output_type": "error",
          "ename": "TypeError",
          "evalue": "ignored",
          "traceback": [
            "\u001b[0;31m---------------------------------------------------------------------------\u001b[0m",
            "\u001b[0;31mTypeError\u001b[0m                                 Traceback (most recent call last)",
            "\u001b[0;32m<ipython-input-54-d2bc9af83556>\u001b[0m in \u001b[0;36m<module>\u001b[0;34m()\u001b[0m\n\u001b[1;32m      1\u001b[0m \u001b[0mprint\u001b[0m\u001b[0;34m(\u001b[0m\u001b[0ms\u001b[0m\u001b[0;34m)\u001b[0m\u001b[0;34m\u001b[0m\u001b[0;34m\u001b[0m\u001b[0m\n\u001b[1;32m      2\u001b[0m \u001b[0;31m# make it:  zman\u001b[0m\u001b[0;34m\u001b[0m\u001b[0;34m\u001b[0m\u001b[0;34m\u001b[0m\u001b[0m\n\u001b[0;32m----> 3\u001b[0;31m \u001b[0ms\u001b[0m\u001b[0;34m[\u001b[0m\u001b[0;36m0\u001b[0m\u001b[0;34m]\u001b[0m \u001b[0;34m=\u001b[0m \u001b[0;34m'z'\u001b[0m  \u001b[0;31m# --> FAIL!\u001b[0m\u001b[0;34m\u001b[0m\u001b[0;34m\u001b[0m\u001b[0m\n\u001b[0m\u001b[1;32m      4\u001b[0m \u001b[0;31m# once we make a string, it is immutable (we can't modify it)\u001b[0m\u001b[0;34m\u001b[0m\u001b[0;34m\u001b[0m\u001b[0;34m\u001b[0m\u001b[0m\n\u001b[1;32m      5\u001b[0m \u001b[0;34m\u001b[0m\u001b[0m\n",
            "\u001b[0;31mTypeError\u001b[0m: 'str' object does not support item assignment"
          ]
        }
      ]
    },
    {
      "cell_type": "code",
      "metadata": {
        "id": "NgKED5dGSHCG",
        "colab": {
          "base_uri": "https://localhost:8080/",
          "height": 51
        },
        "outputId": "3d1044be-86a7-456a-b0da-d635ffe8f7d0"
      },
      "source": [
        "print(\"e\" in s)\n",
        "print(\"p\" in s)"
      ],
      "execution_count": null,
      "outputs": [
        {
          "output_type": "stream",
          "text": [
            "False\n",
            "True\n"
          ],
          "name": "stdout"
        }
      ]
    },
    {
      "cell_type": "code",
      "metadata": {
        "id": "cFBR76ItSHCI",
        "colab": {
          "base_uri": "https://localhost:8080/",
          "height": 35
        },
        "outputId": "c6b790ef-8ec8-42a6-ed55-1d8e17165a06"
      },
      "source": [
        "s = \"hello world\"\n",
        "s.upper()  # give a copy of it in upper case"
      ],
      "execution_count": null,
      "outputs": [
        {
          "output_type": "execute_result",
          "data": {
            "application/vnd.google.colaboratory.intrinsic": {
              "type": "string"
            },
            "text/plain": [
              "'HELLO WORLD'"
            ]
          },
          "metadata": {
            "tags": []
          },
          "execution_count": 55
        }
      ]
    },
    {
      "cell_type": "code",
      "metadata": {
        "id": "77VZKEmUSHCJ",
        "colab": {
          "base_uri": "https://localhost:8080/",
          "height": 51
        },
        "outputId": "2af4244d-6ce9-4052-e454-7b7b11f301bf"
      },
      "source": [
        "print(s.title())\n",
        "print(s.capitalize())"
      ],
      "execution_count": null,
      "outputs": [
        {
          "output_type": "stream",
          "text": [
            "Hello World\n",
            "Hello world\n"
          ],
          "name": "stdout"
        }
      ]
    },
    {
      "cell_type": "code",
      "metadata": {
        "id": "r8oU7z_KSHCN",
        "colab": {
          "base_uri": "https://localhost:8080/",
          "height": 153
        },
        "outputId": "fa39af13-7592-48d2-fa0d-1e443ef0380f"
      },
      "source": [
        "dir(s)\n",
        "n = 10\n",
        "dir(n)\n",
        "help(s.capitalize)"
      ],
      "execution_count": null,
      "outputs": [
        {
          "output_type": "stream",
          "text": [
            "Help on built-in function capitalize:\n",
            "\n",
            "capitalize(...) method of builtins.str instance\n",
            "    S.capitalize() -> str\n",
            "    \n",
            "    Return a capitalized version of S, i.e. make the first character\n",
            "    have upper case and the rest lower case.\n",
            "\n"
          ],
          "name": "stdout"
        }
      ]
    },
    {
      "cell_type": "code",
      "metadata": {
        "id": "kzQb1WmdSHCO",
        "colab": {
          "base_uri": "https://localhost:8080/",
          "height": 68
        },
        "outputId": "309e1cfb-4722-42a9-99e4-aaf5919fdd68"
      },
      "source": [
        "s = \"hello world\"\n",
        "print(s.title())\n",
        "print(type(s.title()))    # a string ---> so we can do string things to it! (like .swapcase())\n",
        "print(s.title().swapcase())"
      ],
      "execution_count": null,
      "outputs": [
        {
          "output_type": "stream",
          "text": [
            "Hello World\n",
            "<class 'str'>\n",
            "hELLO wORLD\n"
          ],
          "name": "stdout"
        }
      ]
    },
    {
      "cell_type": "code",
      "metadata": {
        "id": "HivIXZiZSHCQ",
        "colab": {
          "base_uri": "https://localhost:8080/",
          "height": 51
        },
        "outputId": "1160d60e-7ddf-4566-c31b-3ff0301bd917"
      },
      "source": [
        "print(s[10])\n",
        "# print s[20]\n",
        "print(s[:200])  # in a slice, the upper limit is simply an \"at most\" stopping point"
      ],
      "execution_count": null,
      "outputs": [
        {
          "output_type": "stream",
          "text": [
            "d\n",
            "hello world\n"
          ],
          "name": "stdout"
        }
      ]
    },
    {
      "cell_type": "markdown",
      "metadata": {
        "id": "t8LHp92wSHCT"
      },
      "source": [
        "### Lists"
      ]
    },
    {
      "cell_type": "code",
      "metadata": {
        "id": "oT0UdTAFSHCT",
        "colab": {
          "base_uri": "https://localhost:8080/",
          "height": 85
        },
        "outputId": "27b04930-7716-43a1-8211-6e4957f2c78f"
      },
      "source": [
        "line = \"IBM    \\t\\t\\t\\n   100 \\n\\n  112.37\"\n",
        "print(line)"
      ],
      "execution_count": null,
      "outputs": [
        {
          "output_type": "stream",
          "text": [
            "IBM    \t\t\t\n",
            "   100 \n",
            "\n",
            "  112.37\n"
          ],
          "name": "stdout"
        }
      ]
    },
    {
      "cell_type": "code",
      "metadata": {
        "id": "334uNZfmSHCW"
      },
      "source": [
        "pieces = line.split()   # ---> produces a list, from a string   (by default it throws out whitespace)"
      ],
      "execution_count": null,
      "outputs": []
    },
    {
      "cell_type": "code",
      "metadata": {
        "id": "Nm_YCmJtSHCY",
        "colab": {
          "base_uri": "https://localhost:8080/",
          "height": 34
        },
        "outputId": "ad276efe-91e7-418d-a67d-d67f4863da5c"
      },
      "source": [
        "print(type(pieces))"
      ],
      "execution_count": null,
      "outputs": [
        {
          "output_type": "stream",
          "text": [
            "<class 'list'>\n"
          ],
          "name": "stdout"
        }
      ]
    },
    {
      "cell_type": "code",
      "metadata": {
        "id": "_8YIG1fESHCa",
        "colab": {
          "base_uri": "https://localhost:8080/",
          "height": 85
        },
        "outputId": "31883ad5-d656-4e88-8b95-c31883f4b8ec"
      },
      "source": [
        "print(len(pieces))\n",
        "print(pieces[0])\n",
        "print(pieces[2])\n",
        "price = float(pieces[2])\n",
        "print(price) # this one is a float"
      ],
      "execution_count": null,
      "outputs": [
        {
          "output_type": "stream",
          "text": [
            "3\n",
            "IBM\n",
            "112.37\n",
            "112.37\n"
          ],
          "name": "stdout"
        }
      ]
    },
    {
      "cell_type": "code",
      "metadata": {
        "id": "vM6HOs16SHCb",
        "colab": {
          "base_uri": "https://localhost:8080/",
          "height": 102
        },
        "outputId": "644b93cc-a994-4254-8c46-2bfcf961a6cd"
      },
      "source": [
        "lst = [1, 2, 'hello', 3.14]\n",
        "print(lst)\n",
        "for itm in lst:  # itm is a variable name for the loop variable\n",
        "    print(itm)"
      ],
      "execution_count": null,
      "outputs": [
        {
          "output_type": "stream",
          "text": [
            "[1, 2, 'hello', 3.14]\n",
            "1\n",
            "2\n",
            "hello\n",
            "3.14\n"
          ],
          "name": "stdout"
        }
      ]
    },
    {
      "cell_type": "code",
      "metadata": {
        "id": "3A_rRFhaSHCe",
        "colab": {
          "base_uri": "https://localhost:8080/",
          "height": 34
        },
        "outputId": "3add5f4a-a412-4cae-8d0a-380fbe678a0b"
      },
      "source": [
        "sum(range(10000000))  # slight pause b/c (1) takes time to add up 10M \n",
        "                      #                  (2) it takes time to allocate space (memory) for 10M"
      ],
      "execution_count": null,
      "outputs": [
        {
          "output_type": "execute_result",
          "data": {
            "text/plain": [
              "49999995000000"
            ]
          },
          "metadata": {
            "tags": []
          },
          "execution_count": 69
        }
      ]
    },
    {
      "cell_type": "code",
      "metadata": {
        "id": "KSA0E9dPSHCg",
        "colab": {
          "base_uri": "https://localhost:8080/",
          "height": 85
        },
        "outputId": "5761e685-ff02-4065-da9e-72636ecefcd3"
      },
      "source": [
        "print(lst[1:3])  # --> list\n",
        "print(lst[-1])   # --> single item\n",
        "print(1 in lst)\n",
        "print(10 in lst)"
      ],
      "execution_count": null,
      "outputs": [
        {
          "output_type": "stream",
          "text": [
            "[2, 'hello']\n",
            "3.14\n",
            "True\n",
            "False\n"
          ],
          "name": "stdout"
        }
      ]
    },
    {
      "cell_type": "code",
      "metadata": {
        "id": "rGVxPXrkSHCh",
        "colab": {
          "base_uri": "https://localhost:8080/",
          "height": 68
        },
        "outputId": "64ef34f0-b8f4-47f1-ce90-356f45298058"
      },
      "source": [
        "# one more bit on split:\n",
        "# split can also take a non-default character (besides whitespace)\n",
        "print(\"GOOG|CSCO|YHOO\".split())\n",
        "print(\"GOOG|CSCO|YHOO\".split(\"|\"))\n",
        "print(\"GOOG|||CSCO|||YHOO\".split(\"|\"))"
      ],
      "execution_count": null,
      "outputs": [
        {
          "output_type": "stream",
          "text": [
            "['GOOG|CSCO|YHOO']\n",
            "['GOOG', 'CSCO', 'YHOO']\n",
            "['GOOG', '', '', 'CSCO', '', '', 'YHOO']\n"
          ],
          "name": "stdout"
        }
      ]
    },
    {
      "cell_type": "code",
      "metadata": {
        "id": "2lxfiSWNSHCj",
        "colab": {
          "base_uri": "https://localhost:8080/",
          "height": 34
        },
        "outputId": "726a5520-9649-4d4b-b000-cb25bdb4e07b"
      },
      "source": [
        "lst = list(lst)\n",
        "lst[2] = 99  # this updates lst in place ... in python, lists are mutable (modify them)\n",
        "print(lst)"
      ],
      "execution_count": null,
      "outputs": [
        {
          "output_type": "stream",
          "text": [
            "[1, 2, 99, 3.14]\n"
          ],
          "name": "stdout"
        }
      ]
    },
    {
      "cell_type": "code",
      "metadata": {
        "id": "_2_wUhD5SHCk",
        "colab": {
          "base_uri": "https://localhost:8080/",
          "height": 34
        },
        "outputId": "544a64de-290e-4170-dde1-48f6a95b518e"
      },
      "source": [
        "print(lst.sort())  # ---> result ??  None? what does that mean?  (no return value)"
      ],
      "execution_count": null,
      "outputs": [
        {
          "output_type": "stream",
          "text": [
            "None\n"
          ],
          "name": "stdout"
        }
      ]
    },
    {
      "cell_type": "code",
      "metadata": {
        "id": "QhsVm7WBSHCm",
        "colab": {
          "base_uri": "https://localhost:8080/",
          "height": 34
        },
        "outputId": "d954d3e8-829b-4f0b-87f2-487e178b828f"
      },
      "source": [
        "print(lst)   # python didn't RETURN a sorted list ... it sorted the list IN-PLACE"
      ],
      "execution_count": null,
      "outputs": [
        {
          "output_type": "stream",
          "text": [
            "[1, 2, 3.14, 99]\n"
          ],
          "name": "stdout"
        }
      ]
    },
    {
      "cell_type": "code",
      "metadata": {
        "id": "zg8mUPmcSHCn",
        "colab": {
          "base_uri": "https://localhost:8080/",
          "height": 198
        },
        "outputId": "33269dde-974c-4847-f660-445863a98fd9"
      },
      "source": [
        "lst = [-5, 3.14, None, \"hello\", True] # it is not sortable\n",
        "lst.sort()\n",
        "print (lst)   # None is less than everything else"
      ],
      "execution_count": null,
      "outputs": [
        {
          "output_type": "error",
          "ename": "TypeError",
          "evalue": "ignored",
          "traceback": [
            "\u001b[0;31m---------------------------------------------------------------------------\u001b[0m",
            "\u001b[0;31mTypeError\u001b[0m                                 Traceback (most recent call last)",
            "\u001b[0;32m<ipython-input-61-a59083e98d3d>\u001b[0m in \u001b[0;36m<module>\u001b[0;34m()\u001b[0m\n\u001b[1;32m      1\u001b[0m \u001b[0mlst\u001b[0m \u001b[0;34m=\u001b[0m \u001b[0;34m[\u001b[0m\u001b[0;34m-\u001b[0m\u001b[0;36m5\u001b[0m\u001b[0;34m,\u001b[0m \u001b[0;36m3.14\u001b[0m\u001b[0;34m,\u001b[0m \u001b[0;32mNone\u001b[0m\u001b[0;34m,\u001b[0m \u001b[0;34m\"hello\"\u001b[0m\u001b[0;34m,\u001b[0m \u001b[0;32mTrue\u001b[0m\u001b[0;34m]\u001b[0m \u001b[0;31m# it is not sortable\u001b[0m\u001b[0;34m\u001b[0m\u001b[0;34m\u001b[0m\u001b[0m\n\u001b[0;32m----> 2\u001b[0;31m \u001b[0mlst\u001b[0m\u001b[0;34m.\u001b[0m\u001b[0msort\u001b[0m\u001b[0;34m(\u001b[0m\u001b[0;34m)\u001b[0m\u001b[0;34m\u001b[0m\u001b[0;34m\u001b[0m\u001b[0m\n\u001b[0m\u001b[1;32m      3\u001b[0m \u001b[0mprint\u001b[0m \u001b[0;34m(\u001b[0m\u001b[0mlst\u001b[0m\u001b[0;34m)\u001b[0m   \u001b[0;31m# None is less than everything else\u001b[0m\u001b[0;34m\u001b[0m\u001b[0;34m\u001b[0m\u001b[0m\n",
            "\u001b[0;31mTypeError\u001b[0m: '<' not supported between instances of 'NoneType' and 'float'"
          ]
        }
      ]
    },
    {
      "cell_type": "code",
      "metadata": {
        "id": "HfixxTZwSHCo",
        "colab": {
          "base_uri": "https://localhost:8080/",
          "height": 34
        },
        "outputId": "f7fd732a-34ff-4071-9c15-113d1a4ad85c"
      },
      "source": [
        "lst = [-5, 3.14,  True]\n",
        "sorted(lst)"
      ],
      "execution_count": null,
      "outputs": [
        {
          "output_type": "execute_result",
          "data": {
            "text/plain": [
              "[-5, True, 3.14]"
            ]
          },
          "metadata": {
            "tags": []
          },
          "execution_count": 76
        }
      ]
    },
    {
      "cell_type": "code",
      "metadata": {
        "id": "0nBZ21vUSHCq"
      },
      "source": [
        "# strings are compared in lexicographic order ... dictionary order\n",
        "# a < aardvard < amanda < bee"
      ],
      "execution_count": null,
      "outputs": []
    },
    {
      "cell_type": "markdown",
      "metadata": {
        "id": "c2JIx0oISHCr"
      },
      "source": [
        "### Odd & Ends"
      ]
    },
    {
      "cell_type": "code",
      "metadata": {
        "id": "bfV5fKc3SHCr"
      },
      "source": [
        "# example of a function\n",
        "def sumup(n):\n",
        "    ' a quick example of a python function (this is called docstring) '\n",
        "    acc = 0\n",
        "    for i in range(n+1):\n",
        "        acc += i  # acc = acc + i\n",
        "    return acc"
      ],
      "execution_count": null,
      "outputs": []
    },
    {
      "cell_type": "code",
      "metadata": {
        "id": "1VqKbd_6SHCt",
        "colab": {
          "base_uri": "https://localhost:8080/",
          "height": 34
        },
        "outputId": "0b51d786-5a0b-493a-a4c7-48cc676061d3"
      },
      "source": [
        "sumup(100)"
      ],
      "execution_count": null,
      "outputs": [
        {
          "output_type": "execute_result",
          "data": {
            "text/plain": [
              "5050"
            ]
          },
          "metadata": {
            "tags": []
          },
          "execution_count": 63
        }
      ]
    },
    {
      "cell_type": "code",
      "metadata": {
        "id": "NCsytC85SHCu",
        "colab": {
          "base_uri": "https://localhost:8080/",
          "height": 34
        },
        "outputId": "95af585f-edc0-4bf3-e396-8d878ed1c80b"
      },
      "source": [
        "sum(range(101))  # up to , but not including"
      ],
      "execution_count": null,
      "outputs": [
        {
          "output_type": "execute_result",
          "data": {
            "text/plain": [
              "5050"
            ]
          },
          "metadata": {
            "tags": []
          },
          "execution_count": 64
        }
      ]
    },
    {
      "cell_type": "code",
      "metadata": {
        "id": "H5myx-J3SHCv",
        "colab": {
          "base_uri": "https://localhost:8080/",
          "height": 102
        },
        "outputId": "737d45ca-e4d5-484c-90fc-b6980c78992d"
      },
      "source": [
        "help(sumup)  # help is populated by the docstring ... if a string is first in the function"
      ],
      "execution_count": null,
      "outputs": [
        {
          "output_type": "stream",
          "text": [
            "Help on function sumup in module __main__:\n",
            "\n",
            "sumup(n)\n",
            "    a quick example of a python function (this is called docstring)\n",
            "\n"
          ],
          "name": "stdout"
        }
      ]
    },
    {
      "cell_type": "code",
      "metadata": {
        "id": "NdVC3QycSHCy",
        "colab": {
          "base_uri": "https://localhost:8080/",
          "height": 935
        },
        "outputId": "43cddb4f-06e2-4b82-a798-510f6dfdbef8"
      },
      "source": [
        "import math\n",
        "dir(math) # everything we can do from the math module"
      ],
      "execution_count": null,
      "outputs": [
        {
          "output_type": "execute_result",
          "data": {
            "text/plain": [
              "['__doc__',\n",
              " '__loader__',\n",
              " '__name__',\n",
              " '__package__',\n",
              " '__spec__',\n",
              " 'acos',\n",
              " 'acosh',\n",
              " 'asin',\n",
              " 'asinh',\n",
              " 'atan',\n",
              " 'atan2',\n",
              " 'atanh',\n",
              " 'ceil',\n",
              " 'copysign',\n",
              " 'cos',\n",
              " 'cosh',\n",
              " 'degrees',\n",
              " 'e',\n",
              " 'erf',\n",
              " 'erfc',\n",
              " 'exp',\n",
              " 'expm1',\n",
              " 'fabs',\n",
              " 'factorial',\n",
              " 'floor',\n",
              " 'fmod',\n",
              " 'frexp',\n",
              " 'fsum',\n",
              " 'gamma',\n",
              " 'gcd',\n",
              " 'hypot',\n",
              " 'inf',\n",
              " 'isclose',\n",
              " 'isfinite',\n",
              " 'isinf',\n",
              " 'isnan',\n",
              " 'ldexp',\n",
              " 'lgamma',\n",
              " 'log',\n",
              " 'log10',\n",
              " 'log1p',\n",
              " 'log2',\n",
              " 'modf',\n",
              " 'nan',\n",
              " 'pi',\n",
              " 'pow',\n",
              " 'radians',\n",
              " 'sin',\n",
              " 'sinh',\n",
              " 'sqrt',\n",
              " 'tan',\n",
              " 'tanh',\n",
              " 'tau',\n",
              " 'trunc']"
            ]
          },
          "metadata": {
            "tags": []
          },
          "execution_count": 85
        }
      ]
    },
    {
      "cell_type": "code",
      "metadata": {
        "id": "KGusnN0ISHC0",
        "colab": {
          "base_uri": "https://localhost:8080/",
          "height": 34
        },
        "outputId": "44ba9f40-4b3d-487e-9061-41a6654560a2"
      },
      "source": [
        "math.e"
      ],
      "execution_count": null,
      "outputs": [
        {
          "output_type": "execute_result",
          "data": {
            "text/plain": [
              "2.718281828459045"
            ]
          },
          "metadata": {
            "tags": []
          },
          "execution_count": 86
        }
      ]
    },
    {
      "cell_type": "code",
      "metadata": {
        "id": "QFryNo63SHC1",
        "colab": {
          "base_uri": "https://localhost:8080/",
          "height": 34
        },
        "outputId": "6829d018-2841-4099-97eb-4605d7d44262"
      },
      "source": [
        "math.pi"
      ],
      "execution_count": null,
      "outputs": [
        {
          "output_type": "execute_result",
          "data": {
            "text/plain": [
              "3.141592653589793"
            ]
          },
          "metadata": {
            "tags": []
          },
          "execution_count": 87
        }
      ]
    },
    {
      "cell_type": "code",
      "metadata": {
        "id": "odQ7rFbcSHC2",
        "colab": {
          "base_uri": "https://localhost:8080/",
          "height": 34
        },
        "outputId": "99065919-e6a9-4e8a-ed2b-421e6d13d67d"
      },
      "source": [
        "math.cos(math.pi) + math.sin(math.pi)"
      ],
      "execution_count": null,
      "outputs": [
        {
          "output_type": "execute_result",
          "data": {
            "text/plain": [
              "-0.9999999999999999"
            ]
          },
          "metadata": {
            "tags": []
          },
          "execution_count": 88
        }
      ]
    },
    {
      "cell_type": "markdown",
      "metadata": {
        "id": "aayNsOUFSHC3"
      },
      "source": [
        "### Ipython Notebook versus Spyder"
      ]
    },
    {
      "cell_type": "markdown",
      "metadata": {
        "id": "znlvHKYRSHC3"
      },
      "source": [
        "I don't use spyder very often ... but I do use emacs and the interactive prompt a lot!\n",
        "\n",
        "  * when? or why?\n",
        "  * when i'm working on \"big\" system (more than a single file) [not tiny!?]\n",
        " \n",
        "Using ipython notebooks:\n",
        "\n",
        "  * when i'm either:\n",
        "    * exploring data and/or snipppets of code\n",
        "    * i can embed matplotlib graphics diretly in a notebook\n",
        "       * no separate window\n",
        "    * anytime i want to communicate with python\n",
        "      * if i'm writing blog post\n",
        "      * if i'm working on drafts (has code also) of paper/book/article/etc.\n",
        "\n",
        "$e^\\pi = x$"
      ]
    },
    {
      "cell_type": "markdown",
      "metadata": {
        "id": "WJULm9R7SHC4"
      },
      "source": [
        "### Quick yield example"
      ]
    },
    {
      "cell_type": "code",
      "metadata": {
        "id": "ce91mHgHSHC4"
      },
      "source": [
        "def foo(x):\n",
        "    return x + 1  # <-- only return that happens\n",
        "    return x + 2\n",
        "    return x + 3"
      ],
      "execution_count": null,
      "outputs": []
    },
    {
      "cell_type": "code",
      "metadata": {
        "id": "ccvMRuA2SHC5",
        "colab": {
          "base_uri": "https://localhost:8080/",
          "height": 34
        },
        "outputId": "ffc7005b-b67d-44fc-949b-3f22fdb35d1a"
      },
      "source": [
        "f = foo(10)\n",
        "print(f)"
      ],
      "execution_count": null,
      "outputs": [
        {
          "output_type": "stream",
          "text": [
            "11\n"
          ],
          "name": "stdout"
        }
      ]
    },
    {
      "cell_type": "code",
      "metadata": {
        "id": "qaMErNqKSHC6"
      },
      "source": [
        "def bar(x):\n",
        "    yield x + 1 \n",
        "    yield x + 2\n",
        "    yield x + 3"
      ],
      "execution_count": null,
      "outputs": []
    },
    {
      "cell_type": "code",
      "metadata": {
        "id": "u0_zRAOxSHC8",
        "colab": {
          "base_uri": "https://localhost:8080/",
          "height": 34
        },
        "outputId": "6cebb717-ab42-4711-c593-1b69728c7f2f"
      },
      "source": [
        "b = bar(10)\n",
        "print(b)   # <-- something weird"
      ],
      "execution_count": null,
      "outputs": [
        {
          "output_type": "stream",
          "text": [
            "<generator object bar at 0x7f1eccb6c570>\n"
          ],
          "name": "stdout"
        }
      ]
    },
    {
      "cell_type": "code",
      "metadata": {
        "id": "2fRxjkOwSHC9",
        "colab": {
          "base_uri": "https://localhost:8080/",
          "height": 34
        },
        "outputId": "59801b39-b4ca-4f00-ea50-2dcf8c3fc9bc"
      },
      "source": [
        "# dir(b) # <--- tell s me i can do next\n",
        "next(b)"
      ],
      "execution_count": null,
      "outputs": [
        {
          "output_type": "execute_result",
          "data": {
            "text/plain": [
              "11"
            ]
          },
          "metadata": {
            "tags": []
          },
          "execution_count": 95
        }
      ]
    },
    {
      "cell_type": "code",
      "metadata": {
        "id": "9IScS5UKSHC-",
        "colab": {
          "base_uri": "https://localhost:8080/",
          "height": 34
        },
        "outputId": "57c60bf3-324a-48b2-9573-9970040dbe00"
      },
      "source": [
        "next(b)"
      ],
      "execution_count": null,
      "outputs": [
        {
          "output_type": "execute_result",
          "data": {
            "text/plain": [
              "12"
            ]
          },
          "metadata": {
            "tags": []
          },
          "execution_count": 96
        }
      ]
    },
    {
      "cell_type": "code",
      "metadata": {
        "id": "3E_S2zJtSHC_",
        "colab": {
          "base_uri": "https://localhost:8080/",
          "height": 34
        },
        "outputId": "ea2eba59-3153-49d5-c595-29eeac2de0ac"
      },
      "source": [
        "next(b)"
      ],
      "execution_count": null,
      "outputs": [
        {
          "output_type": "execute_result",
          "data": {
            "text/plain": [
              "13"
            ]
          },
          "metadata": {
            "tags": []
          },
          "execution_count": 97
        }
      ]
    },
    {
      "cell_type": "code",
      "metadata": {
        "id": "EcCQKrw1SHDB",
        "colab": {
          "base_uri": "https://localhost:8080/",
          "height": 164
        },
        "outputId": "80d0e145-3eff-4141-8022-ccdb8fef33bc"
      },
      "source": [
        "next(b)  # run out of yields .... ->  StopIteration  (tells a for loop to stop loops)"
      ],
      "execution_count": null,
      "outputs": [
        {
          "output_type": "error",
          "ename": "StopIteration",
          "evalue": "ignored",
          "traceback": [
            "\u001b[0;31m---------------------------------------------------------------------------\u001b[0m",
            "\u001b[0;31mStopIteration\u001b[0m                             Traceback (most recent call last)",
            "\u001b[0;32m<ipython-input-98-ab5368f9245c>\u001b[0m in \u001b[0;36m<module>\u001b[0;34m()\u001b[0m\n\u001b[0;32m----> 1\u001b[0;31m \u001b[0mnext\u001b[0m\u001b[0;34m(\u001b[0m\u001b[0mb\u001b[0m\u001b[0;34m)\u001b[0m  \u001b[0;31m# run out of yields .... ->  StopIteration  (tells a for loop to stop loops)\u001b[0m\u001b[0;34m\u001b[0m\u001b[0;34m\u001b[0m\u001b[0m\n\u001b[0m",
            "\u001b[0;31mStopIteration\u001b[0m: "
          ]
        }
      ]
    },
    {
      "cell_type": "markdown",
      "metadata": {
        "id": "sElSgAU9SHDD"
      },
      "source": [
        "### Palindrome"
      ]
    },
    {
      "cell_type": "code",
      "metadata": {
        "id": "cRILDaxaSHDE",
        "colab": {
          "base_uri": "https://localhost:8080/",
          "height": 34
        },
        "outputId": "336de174-f812-4254-d641-53ec56d09835"
      },
      "source": [
        "import numpy as np\n",
        "\n",
        "a = np.array(range(1000))\n",
        "\n",
        "b = np.array(range(1000))\n",
        "\n",
        "c = np.meshgrid(a, b)\n",
        "\n",
        "d = c[0]*c[1]\n",
        "\n",
        "d = np.resize(d, 1000000)\n",
        "\n",
        "d_str = np.array(d, dtype = str)\n",
        "\n",
        "y = []\n",
        "\n",
        "for x in d_str:\n",
        "    \n",
        "    if x == x[::-1]:\n",
        "        #print 'Got One!'\n",
        "        y = np.append(y, x)\n",
        "\n",
        "final = np.array(y, dtype=int)\n",
        "\n",
        "ty = max(final)\n",
        "\n",
        "print(ty)"
      ],
      "execution_count": null,
      "outputs": [
        {
          "output_type": "stream",
          "text": [
            "906609\n"
          ],
          "name": "stdout"
        }
      ]
    }
  ]
}